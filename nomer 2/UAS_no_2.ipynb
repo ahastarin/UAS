{
  "cells": [
    {
      "cell_type": "code",
      "execution_count": 1,
      "metadata": {
        "colab": {
          "base_uri": "https://localhost:8080/"
        },
        "id": "Tu2Ujn61zle3",
        "outputId": "d8230f44-def3-4a02-d5cf-3e089f2ac4a8"
      },
      "outputs": [
        {
          "name": "stdout",
          "output_type": "stream",
          "text": [
            "Requirement already satisfied: apyori in c:\\users\\windows\\anaconda3\\lib\\site-packages (1.1.2)\n",
            "Note: you may need to restart the kernel to use updated packages.\n"
          ]
        }
      ],
      "source": [
        "pip install apyori\n"
      ]
    },
    {
      "cell_type": "code",
      "execution_count": 2,
      "metadata": {
        "id": "bc-4lrKHykOh"
      },
      "outputs": [],
      "source": [
        "import numpy as np\n",
        "import pandas as pd\n",
        "from apyori import apriori"
      ]
    },
    {
      "cell_type": "code",
      "execution_count": 3,
      "metadata": {
        "colab": {
          "base_uri": "https://localhost:8080/",
          "height": 206
        },
        "id": "v0SkjB5WzbAD",
        "outputId": "15c0f916-62a6-4040-fad6-cc547ad6bf88"
      },
      "outputs": [
        {
          "data": {
            "text/html": [
              "<div>\n",
              "<style scoped>\n",
              "    .dataframe tbody tr th:only-of-type {\n",
              "        vertical-align: middle;\n",
              "    }\n",
              "\n",
              "    .dataframe tbody tr th {\n",
              "        vertical-align: top;\n",
              "    }\n",
              "\n",
              "    .dataframe thead th {\n",
              "        text-align: right;\n",
              "    }\n",
              "</style>\n",
              "<table border=\"1\" class=\"dataframe\">\n",
              "  <thead>\n",
              "    <tr style=\"text-align: right;\">\n",
              "      <th></th>\n",
              "      <th>Barang 1</th>\n",
              "      <th>Barang 2</th>\n",
              "      <th>Barang 3</th>\n",
              "      <th>Barang 4</th>\n",
              "      <th>Barang 5</th>\n",
              "      <th>Barang 6</th>\n",
              "    </tr>\n",
              "  </thead>\n",
              "  <tbody>\n",
              "    <tr>\n",
              "      <th>96</th>\n",
              "      <td>Wine</td>\n",
              "      <td>Chips</td>\n",
              "      <td>Bread</td>\n",
              "      <td>Butter</td>\n",
              "      <td>NaN</td>\n",
              "      <td>Apple</td>\n",
              "    </tr>\n",
              "    <tr>\n",
              "      <th>97</th>\n",
              "      <td>Wine</td>\n",
              "      <td>Chips</td>\n",
              "      <td>Bread</td>\n",
              "      <td>NaN</td>\n",
              "      <td>NaN</td>\n",
              "      <td>NaN</td>\n",
              "    </tr>\n",
              "    <tr>\n",
              "      <th>98</th>\n",
              "      <td>Wine</td>\n",
              "      <td>Chips</td>\n",
              "      <td>Bread</td>\n",
              "      <td>Butter</td>\n",
              "      <td>NaN</td>\n",
              "      <td>Apple</td>\n",
              "    </tr>\n",
              "    <tr>\n",
              "      <th>99</th>\n",
              "      <td>Wine</td>\n",
              "      <td>Chips</td>\n",
              "      <td>Bread</td>\n",
              "      <td>NaN</td>\n",
              "      <td>NaN</td>\n",
              "      <td>NaN</td>\n",
              "    </tr>\n",
              "    <tr>\n",
              "      <th>100</th>\n",
              "      <td>Wine</td>\n",
              "      <td>Chips</td>\n",
              "      <td>Bread</td>\n",
              "      <td>Butter</td>\n",
              "      <td>NaN</td>\n",
              "      <td>Apple</td>\n",
              "    </tr>\n",
              "  </tbody>\n",
              "</table>\n",
              "</div>"
            ],
            "text/plain": [
              "    Barang 1 Barang 2 Barang 3 Barang 4 Barang 5 Barang 6\n",
              "96      Wine    Chips    Bread   Butter      NaN    Apple\n",
              "97      Wine    Chips    Bread      NaN      NaN      NaN\n",
              "98      Wine    Chips    Bread   Butter      NaN    Apple\n",
              "99      Wine    Chips    Bread      NaN      NaN      NaN\n",
              "100     Wine    Chips    Bread   Butter      NaN    Apple"
            ]
          },
          "execution_count": 3,
          "metadata": {},
          "output_type": "execute_result"
        }
      ],
      "source": [
        "\n",
        "\n",
        "data_store = pd.read_excel('https://github.com/ekayuniar/datamining/raw/master/UAS/dataset%20soal%20no.2.xls')\n",
        "data_store.tail()"
      ]
    },
    {
      "cell_type": "code",
      "execution_count": 4,
      "metadata": {
        "colab": {
          "base_uri": "https://localhost:8080/"
        },
        "id": "nM2Vtbl1rPGe",
        "outputId": "ac572c00-9e69-4d3f-9f0e-7a717194bcc6"
      },
      "outputs": [
        {
          "data": {
            "text/plain": [
              "(101, 6)"
            ]
          },
          "execution_count": 4,
          "metadata": {},
          "output_type": "execute_result"
        }
      ],
      "source": [
        "data_store.shape"
      ]
    },
    {
      "cell_type": "code",
      "execution_count": 5,
      "metadata": {
        "id": "1Kvycapx0xcL"
      },
      "outputs": [],
      "source": [
        "records = []\n",
        "for i in range(0, 51):\n",
        "    records.append([str(data_store.values[i,j]) for j in range(0,6)])"
      ]
    },
    {
      "cell_type": "code",
      "execution_count": 6,
      "metadata": {
        "id": "AP4ra9Ny42Fq"
      },
      "outputs": [],
      "source": [
        "association_rules = apriori(records, min_support=0.2, min_confidence=0.2, min_lift=0.2, main_lenght=2)\n",
        "association_results = list(association_rules)"
      ]
    },
    {
      "cell_type": "code",
      "execution_count": 7,
      "metadata": {
        "colab": {
          "base_uri": "https://localhost:8080/"
        },
        "id": "eJOxFEgvsUas",
        "outputId": "bea7da27-ca11-4d77-9249-d1fc80dae4f6"
      },
      "outputs": [
        {
          "name": "stdout",
          "output_type": "stream",
          "text": [
            "104\n"
          ]
        }
      ],
      "source": [
        "print(len(association_results))"
      ]
    },
    {
      "cell_type": "code",
      "execution_count": 8,
      "metadata": {
        "colab": {
          "base_uri": "https://localhost:8080/"
        },
        "id": "LJsptYatsX9P",
        "outputId": "d1a48327-ff38-439d-a51d-e31f00f327e3"
      },
      "outputs": [
        {
          "name": "stdout",
          "output_type": "stream",
          "text": [
            "3\n"
          ]
        }
      ],
      "source": [
        "print(len(association_results[0]))"
      ]
    },
    {
      "cell_type": "code",
      "execution_count": 9,
      "metadata": {
        "colab": {
          "base_uri": "https://localhost:8080/"
        },
        "id": "tRPiX49Isdpi",
        "outputId": "92be2b77-47d2-4afc-d129-09d35a969e0b"
      },
      "outputs": [
        {
          "name": "stdout",
          "output_type": "stream",
          "text": [
            "RelationRecord(items=frozenset({'Apple'}), support=0.8431372549019608, ordered_statistics=[OrderedStatistic(items_base=frozenset(), items_add=frozenset({'Apple'}), confidence=0.8431372549019608, lift=1.0)])\n"
          ]
        }
      ],
      "source": [
        "print(association_results[0])"
      ]
    },
    {
      "cell_type": "code",
      "execution_count": 10,
      "metadata": {
        "colab": {
          "base_uri": "https://localhost:8080/"
        },
        "id": "bpfMypoVsgz1",
        "outputId": "71a84e01-76b2-4601-bede-680240f9c6fb"
      },
      "outputs": [
        {
          "name": "stdout",
          "output_type": "stream",
          "text": [
            "     title1 title2 support confidence lift\n",
            "0     Apple         0.8431     0.8431  1.0\n",
            "1     Bread         0.7843     0.7843  1.0\n",
            "2    Butter         0.7647     0.7647  1.0\n",
            "3     Chips         0.7058     0.7058  1.0\n",
            "4      Milk         0.8823     0.8823  1.0\n",
            "..      ...    ...     ...        ...  ...\n",
            "99   Butter   Milk  0.2352     0.2352  1.0\n",
            "100  Butter   Milk  0.2156     0.2156  1.0\n",
            "101  Butter   Milk  0.2745     0.2745  1.0\n",
            "102  Butter   Milk  0.2549     0.2549  1.0\n",
            "103  Butter   Milk  0.2352     0.2352  1.0\n",
            "\n",
            "[104 rows x 5 columns]\n"
          ]
        }
      ],
      "source": [
        "results =[]\n",
        "for item in association_results:\n",
        "    pair = item[0]\n",
        "    items = [x for x in pair]\n",
        "\n",
        "    value0 = str(items[0]) if items else \"\"  # Handle the case where items is empty\n",
        "    value1 = str(items[1]) if len(items) > 1 else \"\"  # Handle the case where items has only one element\n",
        "    value2 = str(item[1])[:6]\n",
        "    value3 = str(item[2][0][2])[:6]\n",
        "    value4 = str(item[2][0][3])[:6]\n",
        "\n",
        "    rows = (value0,value1,value2,value3,value4)\n",
        "\n",
        "    results.append(rows)\n",
        "\n",
        "label = ['title1', 'title2','support','confidence','lift']\n",
        "\n",
        "store_suggestion = pd.DataFrame(results, columns=label)\n",
        "\n",
        "print(store_suggestion)"
      ]
    },
    {
      "cell_type": "code",
      "execution_count": 11,
      "metadata": {
        "colab": {
          "base_uri": "https://localhost:8080/"
        },
        "id": "PZsrF00ftD0r",
        "outputId": "b4372529-aee3-497f-9e3f-5da931a6c24b"
      },
      "outputs": [
        {
          "name": "stdout",
          "output_type": "stream",
          "text": [
            "     title1 title2 support confidence lift\n",
            "0     Apple         0.8431     0.8431  1.0\n",
            "1     Bread         0.7843     0.7843  1.0\n",
            "2    Butter         0.7647     0.7647  1.0\n",
            "3     Chips         0.7058     0.7058  1.0\n",
            "4      Milk         0.8823     0.8823  1.0\n",
            "..      ...    ...     ...        ...  ...\n",
            "99   Butter   Milk  0.2352     0.2352  1.0\n",
            "100  Butter   Milk  0.2156     0.2156  1.0\n",
            "101  Butter   Milk  0.2745     0.2745  1.0\n",
            "102  Butter   Milk  0.2549     0.2549  1.0\n",
            "103  Butter   Milk  0.2352     0.2352  1.0\n",
            "\n",
            "[104 rows x 5 columns]\n"
          ]
        }
      ],
      "source": [
        "results =[]\n",
        "for item in association_results:\n",
        "    pair = item[0]\n",
        "    items = [x for x in pair]\n",
        "\n",
        "    value0 = str(items[0]) if items else \"\"  # Handle cases where items is empty\n",
        "    value1 = str(items[1]) if len(items) > 1 else \"\"  # Handle cases where items has less than two elements\n",
        "    value2 = str(item[1])[:6]\n",
        "    value3 = str(item[2][0][2])[:6]\n",
        "    value4 = str(item[2][0][3])[:6]\n",
        "\n",
        "    rows = (value0,value1,value2,value3,value4)\n",
        "\n",
        "    results.append(rows)\n",
        "\n",
        "label = ['title1', 'title2','support','confidence','lift']  # Moved label outside the loop\n",
        "\n",
        "store_suggestion = pd.DataFrame(results, columns=label)  # Moved DataFrame creation outside the loop\n",
        "\n",
        "print(store_suggestion)"
      ]
    },
    {
      "cell_type": "code",
      "execution_count": 12,
      "metadata": {
        "colab": {
          "base_uri": "https://localhost:8080/"
        },
        "id": "cFAZQenotMAH",
        "outputId": "575be2d6-de66-427c-d0ff-d7748ee456db"
      },
      "outputs": [
        {
          "name": "stdout",
          "output_type": "stream",
          "text": [
            "     title1 title2 support confidence lift\n",
            "0     Apple         0.8431     0.8431  1.0\n",
            "1     Bread         0.7843     0.7843  1.0\n",
            "2    Butter         0.7647     0.7647  1.0\n",
            "3     Chips         0.7058     0.7058  1.0\n",
            "4      Milk         0.8823     0.8823  1.0\n",
            "..      ...    ...     ...        ...  ...\n",
            "99   Butter   Milk  0.2352     0.2352  1.0\n",
            "100  Butter   Milk  0.2156     0.2156  1.0\n",
            "101  Butter   Milk  0.2745     0.2745  1.0\n",
            "102  Butter   Milk  0.2549     0.2549  1.0\n",
            "103  Butter   Milk  0.2352     0.2352  1.0\n",
            "\n",
            "[104 rows x 5 columns]\n"
          ]
        }
      ],
      "source": [
        "results = []\n",
        "for item in association_results:\n",
        "    pair = item[0]\n",
        "    items = [x for x in pair]\n",
        "\n",
        "    value0 = str(items[0]) if items else \"\"  # Handle cases where items is empty\n",
        "    value1 = str(items[1]) if len(items) > 1 else \"\"  # Handle cases where items has less than two elements\n",
        "    value2 = str(item[1])[:6]\n",
        "    value3 = str(item[2][0][2])[:6]\n",
        "    value4 = str(item[2][0][3])[:6]\n",
        "\n",
        "    rows = (value0, value1, value2, value3, value4)\n",
        "    results.append(rows)\n",
        "\n",
        "label = ['title1', 'title2', 'support', 'confidence', 'lift']\n",
        "\n",
        "store_suggestion = pd.DataFrame(results, columns=label)\n",
        "\n",
        "print(store_suggestion)"
      ]
    },
    {
      "cell_type": "code",
      "execution_count": 13,
      "metadata": {
        "colab": {
          "base_uri": "https://localhost:8080/",
          "height": 175
        },
        "id": "f0RjaR5mtPW3",
        "outputId": "990378cb-d937-4895-a8b6-ff1b3e71fa81"
      },
      "outputs": [
        {
          "data": {
            "text/html": [
              "<div>\n",
              "<style scoped>\n",
              "    .dataframe tbody tr th:only-of-type {\n",
              "        vertical-align: middle;\n",
              "    }\n",
              "\n",
              "    .dataframe tbody tr th {\n",
              "        vertical-align: top;\n",
              "    }\n",
              "\n",
              "    .dataframe thead th {\n",
              "        text-align: right;\n",
              "    }\n",
              "</style>\n",
              "<table border=\"1\" class=\"dataframe\">\n",
              "  <thead>\n",
              "    <tr style=\"text-align: right;\">\n",
              "      <th></th>\n",
              "      <th>title1</th>\n",
              "      <th>title2</th>\n",
              "      <th>support</th>\n",
              "      <th>confidence</th>\n",
              "      <th>lift</th>\n",
              "    </tr>\n",
              "  </thead>\n",
              "  <tbody>\n",
              "    <tr>\n",
              "      <th>count</th>\n",
              "      <td>104</td>\n",
              "      <td>104</td>\n",
              "      <td>104</td>\n",
              "      <td>104</td>\n",
              "      <td>104</td>\n",
              "    </tr>\n",
              "    <tr>\n",
              "      <th>unique</th>\n",
              "      <td>7</td>\n",
              "      <td>7</td>\n",
              "      <td>30</td>\n",
              "      <td>30</td>\n",
              "      <td>1</td>\n",
              "    </tr>\n",
              "    <tr>\n",
              "      <th>top</th>\n",
              "      <td>Butter</td>\n",
              "      <td>Milk</td>\n",
              "      <td>0.4705</td>\n",
              "      <td>0.4705</td>\n",
              "      <td>1.0</td>\n",
              "    </tr>\n",
              "    <tr>\n",
              "      <th>freq</th>\n",
              "      <td>50</td>\n",
              "      <td>24</td>\n",
              "      <td>8</td>\n",
              "      <td>8</td>\n",
              "      <td>104</td>\n",
              "    </tr>\n",
              "  </tbody>\n",
              "</table>\n",
              "</div>"
            ],
            "text/plain": [
              "        title1 title2 support confidence lift\n",
              "count      104    104     104        104  104\n",
              "unique       7      7      30         30    1\n",
              "top     Butter   Milk  0.4705     0.4705  1.0\n",
              "freq        50     24       8          8  104"
            ]
          },
          "execution_count": 13,
          "metadata": {},
          "output_type": "execute_result"
        }
      ],
      "source": [
        "store_suggestion.describe()"
      ]
    },
    {
      "cell_type": "code",
      "execution_count": 14,
      "metadata": {
        "id": "fzFsPvDjtS5q"
      },
      "outputs": [],
      "source": [
        "store_suggestion.to_excel('data_output_ahas.xlsx')"
      ]
    }
  ],
  "metadata": {
    "colab": {
      "provenance": []
    },
    "kernelspec": {
      "display_name": "Python 3",
      "name": "python3"
    },
    "language_info": {
      "codemirror_mode": {
        "name": "ipython",
        "version": 3
      },
      "file_extension": ".py",
      "mimetype": "text/x-python",
      "name": "python",
      "nbconvert_exporter": "python",
      "pygments_lexer": "ipython3",
      "version": "3.11.7"
    }
  },
  "nbformat": 4,
  "nbformat_minor": 0
}
